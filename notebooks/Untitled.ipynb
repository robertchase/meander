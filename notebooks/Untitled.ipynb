{
 "cells": [
  {
   "cell_type": "code",
   "execution_count": 1,
   "id": "359bb8eb",
   "metadata": {},
   "outputs": [],
   "source": [
    "import meander as web"
   ]
  },
  {
   "cell_type": "code",
   "execution_count": 2,
   "id": "8aa750ab",
   "metadata": {},
   "outputs": [
    {
     "data": {
      "text/plain": [
       "b'HTTP/1.1 200 OK\\r\\nDate: Thu, 06 Jul 2023 05:53:39 EDT\\r\\nContent-Length: 0\\r\\n\\r\\n'"
      ]
     },
     "execution_count": 2,
     "metadata": {},
     "output_type": "execute_result"
    }
   ],
   "source": [
    "web.Response().value"
   ]
  },
  {
   "cell_type": "code",
   "execution_count": 3,
   "id": "dd258883",
   "metadata": {},
   "outputs": [
    {
     "data": {
      "text/plain": [
       "b'HTTP/1.1 200 OK\\r\\nContent-Type: text/plain; charset=utf-8\\r\\nDate: Thu, 06 Jul 2023 05:53:58 EDT\\r\\nContent-Length: 102\\r\\n\\r\\n<html><head><meta http-equiv=\"Refresh\" content=\"0; url=\\'www.google.com\\'\" /></head><body></body></html>'"
      ]
     },
     "execution_count": 3,
     "metadata": {},
     "output_type": "execute_result"
    }
   ],
   "source": [
    "web.Refresh(\"www.google.com\").value"
   ]
  },
  {
   "cell_type": "code",
   "execution_count": 2,
   "id": "ae688d08",
   "metadata": {},
   "outputs": [],
   "source": [
    "@web.payload(a=int, b=str)\n",
    "async def test(a, b):\n",
    "    return \"pong\""
   ]
  },
  {
   "cell_type": "code",
   "execution_count": 6,
   "id": "ee1324fd",
   "metadata": {},
   "outputs": [
    {
     "data": {
      "text/plain": [
       "'pong'"
      ]
     },
     "execution_count": 6,
     "metadata": {},
     "output_type": "execute_result"
    }
   ],
   "source": [
    "await test(10, \"hi\")"
   ]
  },
  {
   "cell_type": "code",
   "execution_count": null,
   "id": "a8d6e035",
   "metadata": {},
   "outputs": [],
   "source": []
  }
 ],
 "metadata": {
  "kernelspec": {
   "display_name": "Python 3 (ipykernel)",
   "language": "python",
   "name": "python3"
  },
  "language_info": {
   "codemirror_mode": {
    "name": "ipython",
    "version": 3
   },
   "file_extension": ".py",
   "mimetype": "text/x-python",
   "name": "python",
   "nbconvert_exporter": "python",
   "pygments_lexer": "ipython3",
   "version": "3.11.2"
  }
 },
 "nbformat": 4,
 "nbformat_minor": 5
}
