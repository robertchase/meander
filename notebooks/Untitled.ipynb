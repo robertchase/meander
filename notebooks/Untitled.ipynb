{
 "cells": [
  {
   "cell_type": "code",
   "execution_count": null,
   "id": "359bb8eb",
   "metadata": {},
   "outputs": [],
   "source": [
    "import meander as web"
   ]
  },
  {
   "cell_type": "code",
   "execution_count": null,
   "id": "8aa750ab",
   "metadata": {},
   "outputs": [],
   "source": [
    "web.Response().value"
   ]
  },
  {
   "cell_type": "code",
   "execution_count": null,
   "id": "dd258883",
   "metadata": {},
   "outputs": [],
   "source": [
    "web.Refresh(\"www.google.com\").value"
   ]
  },
  {
   "cell_type": "code",
   "execution_count": null,
   "id": "ae688d08",
   "metadata": {},
   "outputs": [],
   "source": [
    "@web.payload(a=int, b=str)\n",
    "async def test(a, b):\n",
    "    return \"pong\""
   ]
  },
  {
   "cell_type": "code",
   "execution_count": null,
   "id": "ee1324fd",
   "metadata": {},
   "outputs": [],
   "source": [
    "await test(10, \"hi\")"
   ]
  },
  {
   "cell_type": "code",
   "execution_count": null,
   "id": "a8d6e035",
   "metadata": {},
   "outputs": [],
   "source": [
    "async def ping(request):\n",
    "    return \"pong\""
   ]
  },
  {
   "cell_type": "code",
   "execution_count": null,
   "id": "589dc0be",
   "metadata": {},
   "outputs": [],
   "source": [
    "web.add_server(\"test\", {\"/ping\": {\"GET\": ping}}, 12345)"
   ]
  },
  {
   "cell_type": "code",
   "execution_count": null,
   "id": "d5b55a3c",
   "metadata": {},
   "outputs": [],
   "source": [
    "web.run()"
   ]
  },
  {
   "cell_type": "code",
   "execution_count": null,
   "id": "0387ea41",
   "metadata": {},
   "outputs": [],
   "source": [
    "import asyncio\n",
    "from meander import server"
   ]
  },
  {
   "cell_type": "code",
   "execution_count": null,
   "id": "9355cb1e",
   "metadata": {},
   "outputs": [],
   "source": [
    "s = server.Server(\"test\", {\"/ping\": {\"GET\": ping}}, 12345)"
   ]
  },
  {
   "cell_type": "code",
   "execution_count": null,
   "id": "22dab668",
   "metadata": {},
   "outputs": [],
   "source": [
    "await asyncio.gather(s.start())"
   ]
  },
  {
   "cell_type": "code",
   "execution_count": null,
   "id": "b4285dde",
   "metadata": {},
   "outputs": [],
   "source": []
  }
 ],
 "metadata": {
  "kernelspec": {
   "display_name": "Python 3 (ipykernel)",
   "language": "python",
   "name": "python3"
  },
  "language_info": {
   "codemirror_mode": {
    "name": "ipython",
    "version": 3
   },
   "file_extension": ".py",
   "mimetype": "text/x-python",
   "name": "python",
   "nbconvert_exporter": "python",
   "pygments_lexer": "ipython3",
   "version": "3.11.2"
  }
 },
 "nbformat": 4,
 "nbformat_minor": 5
}
