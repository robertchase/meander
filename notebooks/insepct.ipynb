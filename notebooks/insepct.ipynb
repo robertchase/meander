{
 "cells": [
  {
   "cell_type": "code",
   "execution_count": 1,
   "id": "24e90fee",
   "metadata": {},
   "outputs": [],
   "source": [
    "def add(a: int, b: int = 0) -> int:\n",
    "    return a + b"
   ]
  },
  {
   "cell_type": "code",
   "execution_count": null,
   "id": "514b4012",
   "metadata": {},
   "outputs": [],
   "source": [
    "add(12)"
   ]
  },
  {
   "cell_type": "code",
   "execution_count": 2,
   "id": "7bca532e",
   "metadata": {},
   "outputs": [],
   "source": [
    "from inspect import signature"
   ]
  },
  {
   "cell_type": "code",
   "execution_count": null,
   "id": "811245d8",
   "metadata": {},
   "outputs": [],
   "source": [
    "sig = signature(add)"
   ]
  },
  {
   "cell_type": "code",
   "execution_count": null,
   "id": "951245c0",
   "metadata": {},
   "outputs": [],
   "source": [
    "sig"
   ]
  },
  {
   "cell_type": "code",
   "execution_count": null,
   "id": "652bc827",
   "metadata": {},
   "outputs": [],
   "source": [
    "p = list(sig.parameters.values())[0]"
   ]
  },
  {
   "cell_type": "code",
   "execution_count": null,
   "id": "1234b962",
   "metadata": {},
   "outputs": [],
   "source": [
    "p.annotation"
   ]
  },
  {
   "cell_type": "code",
   "execution_count": 3,
   "id": "5fd4a36d",
   "metadata": {},
   "outputs": [],
   "source": [
    "import meander as web"
   ]
  },
  {
   "cell_type": "code",
   "execution_count": 4,
   "id": "597d14fe",
   "metadata": {},
   "outputs": [],
   "source": [
    "def call(fn, **kwargs):\n",
    "    args = []\n",
    "    sig = signature(fn)\n",
    "    for par in sig.parameters.values():\n",
    "        if par.name not in kwargs:\n",
    "            if par.default == par.empty:\n",
    "                raise AttributeError(f\"missing argument '{par.name}'\")\n",
    "            value = par.default\n",
    "        else:\n",
    "            value = kwargs[par.name]\n",
    "        if par.annotation != par.empty:\n",
    "            if par.annotation == int:\n",
    "                value = web.param.types.integer(value)\n",
    "            elif par.annotation == bool:\n",
    "                value = web.param.types.boolean(value)\n",
    "            elif par.annotation == str:\n",
    "                value = str(value)\n",
    "        args.append(value)\n",
    "        \n",
    "    return fn(*args)"
   ]
  },
  {
   "cell_type": "code",
   "execution_count": null,
   "id": "78359fd4",
   "metadata": {},
   "outputs": [],
   "source": [
    "call(add, a=\"1\")"
   ]
  },
  {
   "cell_type": "code",
   "execution_count": null,
   "id": "8ac660a0",
   "metadata": {},
   "outputs": [],
   "source": [
    "dir.__hash__"
   ]
  },
  {
   "cell_type": "code",
   "execution_count": 12,
   "id": "d903be95",
   "metadata": {},
   "outputs": [],
   "source": [
    "def get_params(fn):\n",
    "    \n",
    "    def get_type(par):\n",
    "        if par.annotation != par.empty:\n",
    "            if par.annotation == int:\n",
    "                return web.param.types.integer\n",
    "            if par.annotation == bool:\n",
    "                return web.param.types.boolean\n",
    "            if par.annotation == str:\n",
    "                return str\n",
    "            if isinstance(par.annotation, web.Param):\n",
    "                return par.annotation\n",
    "            return lambda x: x\n",
    "\n",
    "    params = []\n",
    "\n",
    "    sig = signature(fn)\n",
    "    for par in sig.parameters.values():\n",
    "\n",
    "        param = web.param.Param(get_type(par))\n",
    "        if par.default != par.empty:\n",
    "            param.default = par.default\n",
    "        param.name = par.name\n",
    "        \n",
    "        params.append(param)\n",
    "                \n",
    "    return params"
   ]
  },
  {
   "cell_type": "code",
   "execution_count": 13,
   "id": "3c87c0ad",
   "metadata": {},
   "outputs": [],
   "source": [
    "def call(fn, *args, **kwargs):\n",
    "    \n",
    "    params = get_params(fn)\n",
    "    \n",
    "    if len(args) > len(params):\n",
    "         raise AttributeError(f\"extra attributes: {args[len(params):]}\")\n",
    "            \n",
    "    for value, param in zip(args, params):\n",
    "        if param.name in kwargs:\n",
    "            raise AttributeError(f\"duplicate attribute: {param.name}\")\n",
    "        kwargs[param.name] = value\n",
    "        \n",
    "    # connection_id\n",
    "    # kwarg_sink\n",
    "    \n",
    "    normal = []\n",
    "    for param in params:\n",
    "        if param.name not in kwargs:\n",
    "            if param.is_required:\n",
    "                raise AttributeError(f\"required attribute: {param.name}\")\n",
    "            normal.append(param.default)\n",
    "        else:\n",
    "            try:\n",
    "                value = kwargs[param.name]\n",
    "                normal.append(param.type(value))\n",
    "            except ValueError as err:\n",
    "                raise ValueError(f\"{param.name} is {err}\")\n",
    "                \n",
    "    return fn(*normal)"
   ]
  },
  {
   "cell_type": "code",
   "execution_count": 15,
   "id": "3daae1d4",
   "metadata": {},
   "outputs": [
    {
     "data": {
      "text/plain": [
       "16"
      ]
     },
     "execution_count": 15,
     "metadata": {},
     "output_type": "execute_result"
    }
   ],
   "source": [
    "call(add, 12, 4)"
   ]
  },
  {
   "cell_type": "code",
   "execution_count": 19,
   "id": "b530a198",
   "metadata": {},
   "outputs": [],
   "source": [
    "def echo(a: int, b: str, con_id: str = \"\"):\n",
    "    return dict(a=a, b=b)"
   ]
  },
  {
   "cell_type": "code",
   "execution_count": 21,
   "id": "9a3f30fd",
   "metadata": {},
   "outputs": [
    {
     "ename": "TypeError",
     "evalue": "echo() missing 1 required positional argument: 'b'",
     "output_type": "error",
     "traceback": [
      "\u001b[0;31m---------------------------------------------------------------------------\u001b[0m",
      "\u001b[0;31mTypeError\u001b[0m                                 Traceback (most recent call last)",
      "Cell \u001b[0;32mIn[21], line 1\u001b[0m\n\u001b[0;32m----> 1\u001b[0m \u001b[43mecho\u001b[49m\u001b[43m(\u001b[49m\u001b[38;5;241;43m12\u001b[39;49m\u001b[43m)\u001b[49m\n",
      "\u001b[0;31mTypeError\u001b[0m: echo() missing 1 required positional argument: 'b'"
     ]
    }
   ],
   "source": [
    "echo(12)"
   ]
  },
  {
   "cell_type": "code",
   "execution_count": null,
   "id": "a44f746f",
   "metadata": {},
   "outputs": [],
   "source": []
  }
 ],
 "metadata": {
  "kernelspec": {
   "display_name": "Python 3 (ipykernel)",
   "language": "python",
   "name": "python3"
  },
  "language_info": {
   "codemirror_mode": {
    "name": "ipython",
    "version": 3
   },
   "file_extension": ".py",
   "mimetype": "text/x-python",
   "name": "python",
   "nbconvert_exporter": "python",
   "pygments_lexer": "ipython3",
   "version": "3.11.2"
  }
 },
 "nbformat": 4,
 "nbformat_minor": 5
}
